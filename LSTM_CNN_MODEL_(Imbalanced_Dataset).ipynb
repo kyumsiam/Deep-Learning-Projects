{
  "nbformat": 4,
  "nbformat_minor": 0,
  "metadata": {
    "colab": {
      "provenance": [],
      "gpuType": "T4"
    },
    "kernelspec": {
      "name": "python3",
      "display_name": "Python 3"
    },
    "language_info": {
      "name": "python"
    },
    "accelerator": "GPU"
  },
  "cells": [
    {
      "cell_type": "code",
      "execution_count": null,
      "metadata": {
        "id": "2L3p88TdwNdq"
      },
      "outputs": [],
      "source": [
        "import matplotlib.pyplot as plt\n",
        "import seaborn as sns\n",
        "import pandas as pd\n",
        "\n",
        "import keras\n",
        "from keras.models import Sequential\n",
        "from keras.layers import Dense, Conv2D , MaxPool2D , Flatten , Dropout,LSTM\n",
        "from keras.preprocessing.image import ImageDataGenerator\n",
        "from tensorflow.keras.optimizers import Adam\n",
        "from keras.layers import TimeDistributed, Conv2D, MaxPooling2D, Flatten, Dropout, Dense,LSTM\n",
        "\n",
        "from sklearn.metrics import classification_report,confusion_matrix\n",
        "\n",
        "import tensorflow as tf\n",
        "\n",
        "import os\n",
        "\n",
        "import numpy as np"
      ]
    },
    {
      "cell_type": "code",
      "source": [
        "from google.colab import drive\n",
        "drive.mount('/content/drive')"
      ],
      "metadata": {
        "id": "OOef0F7awdlE",
        "colab": {
          "base_uri": "https://localhost:8080/"
        },
        "outputId": "ed3ddcd3-b451-485c-b326-f7638845367c"
      },
      "execution_count": null,
      "outputs": [
        {
          "output_type": "stream",
          "name": "stdout",
          "text": [
            "Mounted at /content/drive\n"
          ]
        }
      ]
    },
    {
      "cell_type": "code",
      "source": [
        "import zipfile\n",
        "\n",
        "zip_ref = zipfile.ZipFile(\"/content/drive/MyDrive/Potato leaf research/Potato Imbalanced Data .zip\", 'r')\n",
        "zip_ref.extractall(\"/content/dataset\")\n",
        "zip_ref.close()"
      ],
      "metadata": {
        "id": "ob-dOTwaz7qf"
      },
      "execution_count": null,
      "outputs": []
    },
    {
      "cell_type": "code",
      "source": [
        "BATCH_SIZE = 32\n",
        "IMAGE_SIZE = 256\n",
        "CHANNELS=3\n",
        "EPOCHS=3\n",
        "img_size=256"
      ],
      "metadata": {
        "id": "cFT5rczW08r3"
      },
      "execution_count": null,
      "outputs": []
    },
    {
      "cell_type": "code",
      "source": [
        "dataset = tf.keras.preprocessing.image_dataset_from_directory(\n",
        "    \"/content/dataset/Potato dataset\",\n",
        "    shuffle=True,\n",
        "    batch_size=BATCH_SIZE,\n",
        "    image_size=(IMAGE_SIZE,IMAGE_SIZE),\n",
        ")"
      ],
      "metadata": {
        "colab": {
          "base_uri": "https://localhost:8080/"
        },
        "id": "G_ItU_8t01AC",
        "outputId": "4bb178c3-ac5c-46cd-cae1-62b19a3953dd"
      },
      "execution_count": null,
      "outputs": [
        {
          "output_type": "stream",
          "name": "stdout",
          "text": [
            "Found 2152 files belonging to 3 classes.\n"
          ]
        }
      ]
    },
    {
      "cell_type": "code",
      "source": [
        "def get_dataset_partitions_tf(ds, train_split=0.8, val_split=0.1, test_split=0.1, shuffle=True, shuffle_size=1000):\n",
        "    assert (train_split + test_split + val_split) == 1\n",
        "\n",
        "    ds_size = len(ds)\n",
        "\n",
        "    if shuffle:\n",
        "        ds = ds.shuffle(shuffle_size, seed=12)\n",
        "\n",
        "    train_size = int(train_split * ds_size)\n",
        "    val_size = int(val_split * ds_size)\n",
        "\n",
        "    train_ds = ds.take(train_size)\n",
        "    val_ds = ds.skip(train_size).take(val_size)\n",
        "    test_ds = ds.skip(train_size).skip(val_size)\n",
        "\n",
        "    return train_ds, val_ds, test_ds"
      ],
      "metadata": {
        "id": "vKQJa79Sz9yJ"
      },
      "execution_count": null,
      "outputs": []
    },
    {
      "cell_type": "code",
      "source": [
        "train_ds, val_ds, test_ds = get_dataset_partitions_tf(dataset)"
      ],
      "metadata": {
        "id": "cIY_Bhuy0GMg"
      },
      "execution_count": null,
      "outputs": []
    },
    {
      "cell_type": "code",
      "source": [
        "x_train = []\n",
        "y_train = []\n",
        "x_val = []\n",
        "y_val = []\n",
        "x_test = []\n",
        "y_test = []"
      ],
      "metadata": {
        "id": "FAq-ZIMq0Mki"
      },
      "execution_count": null,
      "outputs": []
    },
    {
      "cell_type": "code",
      "source": [
        "train_ds"
      ],
      "metadata": {
        "colab": {
          "base_uri": "https://localhost:8080/"
        },
        "id": "-WTPazN_38aG",
        "outputId": "6a447abb-6adf-4bad-8839-e1ca7531056b"
      },
      "execution_count": null,
      "outputs": [
        {
          "output_type": "execute_result",
          "data": {
            "text/plain": [
              "<_TakeDataset element_spec=(TensorSpec(shape=(None, 256, 256, 3), dtype=tf.float32, name=None), TensorSpec(shape=(None,), dtype=tf.int32, name=None))>"
            ]
          },
          "metadata": {},
          "execution_count": 12
        }
      ]
    },
    {
      "cell_type": "code",
      "source": [
        "for feature, label in train_ds:\n",
        "  x_train.append(feature)\n",
        "  y_train.append(label)"
      ],
      "metadata": {
        "id": "s-mPm3rN0Oct"
      },
      "execution_count": null,
      "outputs": []
    },
    {
      "cell_type": "code",
      "source": [
        "for feature, label in val_ds:\n",
        "  x_val.append(feature)\n",
        "  y_val.append(label)"
      ],
      "metadata": {
        "id": "EQRQ8Afl3Ru_"
      },
      "execution_count": null,
      "outputs": []
    },
    {
      "cell_type": "code",
      "source": [
        "for feature, label in test_ds:\n",
        "  x_test.append(feature)\n",
        "  y_test.append(label)"
      ],
      "metadata": {
        "id": "gHRm6lpG1Im6"
      },
      "execution_count": null,
      "outputs": []
    },
    {
      "cell_type": "code",
      "source": [
        "x_train = np.array(x_train)\n",
        "x_val = np.array(x_val)\n",
        "x_test= np.array(x_test)\n",
        "y_train = np.array(y_train)\n",
        "y_val = np.array(y_val)\n",
        "y_test=np.array(y_test)"
      ],
      "metadata": {
        "id": "MbxiC2tn1K-H"
      },
      "execution_count": null,
      "outputs": []
    },
    {
      "cell_type": "code",
      "source": [
        "print(\"x_train:\",x_train.shape)\n",
        "print(\"y_train:\",y_train.shape)\n",
        "print(\"x_test:\",x_test.shape)\n",
        "print(\"y_test:\",y_test.shape)\n",
        "print(\"x_val:\",x_val.shape)\n",
        "print(\"y_val:\",y_val.shape)"
      ],
      "metadata": {
        "id": "zsS5qhAueYdg",
        "outputId": "32faa9ee-d0aa-4ea4-9495-29187cd9ffbf",
        "colab": {
          "base_uri": "https://localhost:8080/"
        }
      },
      "execution_count": null,
      "outputs": [
        {
          "output_type": "stream",
          "name": "stdout",
          "text": [
            "x_train: (54, 32, 256, 256, 3)\n",
            "y_train: (54, 32)\n",
            "x_test: (8, 32, 256, 256, 3)\n",
            "y_test: (8, 32)\n",
            "x_val: (6, 32, 256, 256, 3)\n",
            "y_val: (6, 32)\n"
          ]
        }
      ]
    },
    {
      "cell_type": "code",
      "source": [
        "x_train.reshape(-1, img_size, img_size, 1)\n",
        "y_train = np.array(y_train)\n",
        "\n",
        "x_val.reshape(-1, img_size, img_size, 1)\n",
        "y_val = np.array(y_val)\n",
        "\n",
        "x_test.reshape(-1, img_size, img_size, 1)\n",
        "y_test = np.array(y_test)"
      ],
      "metadata": {
        "id": "pbENaU9AURTm"
      },
      "execution_count": null,
      "outputs": []
    },
    {
      "cell_type": "code",
      "source": [
        "#Normalize the Data\n",
        "x_train = np.array(x_train) / 255\n",
        "x_val = np.array(x_val) / 255\n",
        "x_test=np.array(x_test)/255"
      ],
      "metadata": {
        "id": "tbzQwMKOUKcO"
      },
      "execution_count": null,
      "outputs": []
    },
    {
      "cell_type": "code",
      "source": [
        "print(\"x_train:\",x_train.shape)\n",
        "print(\"y_train:\",y_train.shape)\n",
        "print(\"x_test:\",x_test.shape)\n",
        "print(\"y_test:\",y_test.shape)\n",
        "print(\"x_val:\",x_val.shape)\n",
        "print(\"y_val:\",y_val.shape)"
      ],
      "metadata": {
        "colab": {
          "base_uri": "https://localhost:8080/"
        },
        "id": "SYwBe3AU1vUa",
        "outputId": "0481e52d-8a20-4bec-ffc6-870f83d1a93d"
      },
      "execution_count": null,
      "outputs": [
        {
          "output_type": "stream",
          "name": "stdout",
          "text": [
            "x_train: (54, 32, 256, 256, 3)\n",
            "y_train: (54, 32)\n",
            "x_test: (8, 32, 256, 256, 3)\n",
            "y_test: (8, 32)\n",
            "x_val: (6, 32, 256, 256, 3)\n",
            "y_val: (6, 32)\n"
          ]
        }
      ]
    },
    {
      "cell_type": "code",
      "source": [
        "#4 dIMENTION ( For Use Datagen)\n",
        "x_train = np.array(x_train).reshape(1728,256,256, 3)\n",
        "x_test = np.array(x_test).reshape(256,256,256, 3)\n",
        "x_val = np.array(x_val).reshape(192,256,256, 3)"
      ],
      "metadata": {
        "id": "hZYf-glN1TSq"
      },
      "execution_count": null,
      "outputs": []
    },
    {
      "cell_type": "code",
      "source": [
        "datagen = ImageDataGenerator(\n",
        "       featurewise_center=False,\n",
        "       samplewise_center=False,\n",
        "       featurewise_std_normalization=False,\n",
        "       samplewise_std_normalization=False,\n",
        "       zca_whitening=False,\n",
        "       rotation_range = 90,\n",
        "       zoom_range = 0.5,\n",
        "       width_shift_range=0.2,\n",
        "       height_shift_range=0.2,\n",
        "       horizontal_flip = True,\n",
        ")\n",
        "datagen.fit(x_train)\n",
        "datagen.fit(x_val)\n",
        "datagen.fit(x_test)"
      ],
      "metadata": {
        "id": "ZLNikt4G9g9v"
      },
      "execution_count": null,
      "outputs": []
    },
    {
      "cell_type": "code",
      "source": [
        "x_train = np.array(x_train).reshape(1728,1,256,256, 3)\n",
        "x_test = np.array(x_test).reshape(256,1,256,256, 3)\n",
        "x_val = np.array(x_val).reshape(192,1,256,256, 3)"
      ],
      "metadata": {
        "id": "rbNtFXMI913M"
      },
      "execution_count": null,
      "outputs": []
    },
    {
      "cell_type": "code",
      "source": [
        "y_train=np.array(y_train).reshape(1728)\n",
        "y_test=np.array(y_test).reshape(256)\n",
        "y_val=np.array(y_val).reshape(192)"
      ],
      "metadata": {
        "id": "YKIf96lW-BsO"
      },
      "execution_count": null,
      "outputs": []
    },
    {
      "cell_type": "code",
      "source": [
        "print(\"x_train:\",x_train.shape)\n",
        "print(\"y_train:\",y_train.shape)\n",
        "print(\"x_test:\",x_test.shape)\n",
        "print(\"y_test:\",y_test.shape)\n",
        "print(\"x_val:\",x_val.shape)\n",
        "print(\"y_val:\",y_val.shape)"
      ],
      "metadata": {
        "colab": {
          "base_uri": "https://localhost:8080/"
        },
        "id": "xCPsJdfE986g",
        "outputId": "5d8f2540-8408-48e8-df18-334aabb0356a"
      },
      "execution_count": null,
      "outputs": [
        {
          "output_type": "stream",
          "name": "stdout",
          "text": [
            "x_train: (1728, 1, 256, 256, 3)\n",
            "y_train: (1728,)\n",
            "x_test: (256, 1, 256, 256, 3)\n",
            "y_test: (256,)\n",
            "x_val: (192, 1, 256, 256, 3)\n",
            "y_val: (192,)\n"
          ]
        }
      ]
    },
    {
      "cell_type": "code",
      "source": [
        "# instantiate model\n",
        "model = Sequential()\n",
        "\n",
        "# add three time-distributed convolutional layers for feature extraction\n",
        "model.add(TimeDistributed(Conv2D(64, (3, 3), activation='relu'),input_shape=(1,256,256,3)))\n",
        "model.add(TimeDistributed(MaxPooling2D((2, 2), strides=(1, 1))))\n",
        "\n",
        "model.add(TimeDistributed(Conv2D(128, (3,3), activation='relu')))\n",
        "model.add(TimeDistributed(MaxPooling2D((2, 2), strides=(2, 2))))\n",
        "\n",
        "model.add(TimeDistributed(Conv2D(128, (3,3), activation='relu')))\n",
        "model.add(TimeDistributed(MaxPooling2D((2, 2), strides=(2, 2))))\n",
        "\n",
        "model.add(TimeDistributed(Conv2D(256, (3,3), activation='relu')))\n",
        "model.add(TimeDistributed(MaxPooling2D((2, 2), strides=(2, 2))))\n",
        "\n",
        "model.add(TimeDistributed(Conv2D(256, (3,3), activation='relu')))\n",
        "model.add(TimeDistributed(MaxPooling2D((2, 2), strides=(2, 2))))\n",
        "\n",
        "# extract features and dropout\n",
        "model.add(TimeDistributed(Flatten()))\n",
        "model.add(Dropout(0.5))\n",
        "\n",
        "# input to LSTM\n",
        "model.add(LSTM(256, return_sequences=False, dropout=0.5))\n",
        "\n",
        "# classifier with sigmoid activation for multilabel\n",
        "model.add(Dense(3, activation='sigmoid'))\n",
        "\n",
        "# compile the model with binary_crossentropy loss for multilabel\n",
        "model.compile(optimizer='rmsprop', loss='sparse_categorical_crossentropy',metrics = ['accuracy'])\n",
        "\n",
        "# look at the params before training\n",
        "model.summary()"
      ],
      "metadata": {
        "colab": {
          "base_uri": "https://localhost:8080/"
        },
        "id": "lCm65BrI9_gh",
        "outputId": "c466c3f2-096f-4d4c-f4d7-44ae4475b290"
      },
      "execution_count": null,
      "outputs": [
        {
          "output_type": "stream",
          "name": "stdout",
          "text": [
            "Model: \"sequential\"\n",
            "_________________________________________________________________\n",
            " Layer (type)                Output Shape              Param #   \n",
            "=================================================================\n",
            " time_distributed (TimeDist  (None, 1, 254, 254, 64)   1792      \n",
            " ributed)                                                        \n",
            "                                                                 \n",
            " time_distributed_1 (TimeDi  (None, 1, 253, 253, 64)   0         \n",
            " stributed)                                                      \n",
            "                                                                 \n",
            " time_distributed_2 (TimeDi  (None, 1, 251, 251, 128   73856     \n",
            " stributed)                  )                                   \n",
            "                                                                 \n",
            " time_distributed_3 (TimeDi  (None, 1, 125, 125, 128   0         \n",
            " stributed)                  )                                   \n",
            "                                                                 \n",
            " time_distributed_4 (TimeDi  (None, 1, 123, 123, 128   147584    \n",
            " stributed)                  )                                   \n",
            "                                                                 \n",
            " time_distributed_5 (TimeDi  (None, 1, 61, 61, 128)    0         \n",
            " stributed)                                                      \n",
            "                                                                 \n",
            " time_distributed_6 (TimeDi  (None, 1, 59, 59, 256)    295168    \n",
            " stributed)                                                      \n",
            "                                                                 \n",
            " time_distributed_7 (TimeDi  (None, 1, 29, 29, 256)    0         \n",
            " stributed)                                                      \n",
            "                                                                 \n",
            " time_distributed_8 (TimeDi  (None, 1, 27, 27, 256)    590080    \n",
            " stributed)                                                      \n",
            "                                                                 \n",
            " time_distributed_9 (TimeDi  (None, 1, 13, 13, 256)    0         \n",
            " stributed)                                                      \n",
            "                                                                 \n",
            " time_distributed_10 (TimeD  (None, 1, 43264)          0         \n",
            " istributed)                                                     \n",
            "                                                                 \n",
            " dropout (Dropout)           (None, 1, 43264)          0         \n",
            "                                                                 \n",
            " lstm (LSTM)                 (None, 256)               44565504  \n",
            "                                                                 \n",
            " dense (Dense)               (None, 3)                 771       \n",
            "                                                                 \n",
            "=================================================================\n",
            "Total params: 45674755 (174.24 MB)\n",
            "Trainable params: 45674755 (174.24 MB)\n",
            "Non-trainable params: 0 (0.00 Byte)\n",
            "_________________________________________________________________\n"
          ]
        }
      ]
    },
    {
      "cell_type": "code",
      "source": [
        "#opt = Adam(lr=0.01)\n",
        "model.compile(loss = 'sparse_categorical_crossentropy', optimizer = 'adam', metrics = ['accuracy'])"
      ],
      "metadata": {
        "id": "fz2cO0zG-FvH"
      },
      "execution_count": null,
      "outputs": []
    },
    {
      "cell_type": "code",
      "source": [
        "history = model.fit(x_train,y_train,epochs =3,validation_data = (x_val, y_val),shuffle=True,batch_size=32)"
      ],
      "metadata": {
        "colab": {
          "base_uri": "https://localhost:8080/"
        },
        "id": "dhioVyd0-KIR",
        "outputId": "2162a433-8487-4f13-a52e-cd82372cbdde"
      },
      "execution_count": null,
      "outputs": [
        {
          "output_type": "stream",
          "name": "stdout",
          "text": [
            "Epoch 1/3\n",
            "54/54 [==============================] - 41s 407ms/step - loss: 0.8633 - accuracy: 0.5590 - val_loss: 0.4724 - val_accuracy: 0.8490\n",
            "Epoch 2/3\n",
            "54/54 [==============================] - 20s 380ms/step - loss: 0.4931 - accuracy: 0.8044 - val_loss: 0.1616 - val_accuracy: 0.9375\n",
            "Epoch 3/3\n",
            "54/54 [==============================] - 21s 381ms/step - loss: 0.5100 - accuracy: 0.8177 - val_loss: 0.4040 - val_accuracy: 0.8385\n"
          ]
        }
      ]
    },
    {
      "cell_type": "code",
      "source": [
        "acc = history.history['accuracy']\n",
        "val_acc = history.history['val_accuracy']\n",
        "\n",
        "loss = history.history['loss']\n",
        "val_loss = history.history['val_loss']"
      ],
      "metadata": {
        "id": "_YgHO0uc-M-3"
      },
      "execution_count": null,
      "outputs": []
    },
    {
      "cell_type": "code",
      "source": [
        "# Accuracy AND loss Graph\n",
        "EPOCHS=3\n",
        "plt.figure(figsize=(8, 8))\n",
        "plt.subplot(1, 2, 1)\n",
        "plt.plot(range(EPOCHS), acc, label='Training Accuracy')\n",
        "plt.plot(range(EPOCHS), val_acc, label='Validation Accuracy')\n",
        "plt.legend(loc='lower right')\n",
        "plt.title('Training and Validation Accuracy')\n",
        "\n",
        "plt.subplot(1, 2, 2)\n",
        "plt.plot(range(EPOCHS), loss, label='Training Loss')\n",
        "plt.plot(range(EPOCHS), val_loss, label='Validation Loss')\n",
        "plt.legend(loc='upper right')\n",
        "plt.title('Training and Validation Loss')\n",
        "plt.show()"
      ],
      "metadata": {
        "id": "L7blSz-HN_js",
        "outputId": "3c74541e-f09a-4e14-af1e-2ff6b6d03cc7",
        "colab": {
          "base_uri": "https://localhost:8080/",
          "height": 699
        }
      },
      "execution_count": null,
      "outputs": [
        {
          "output_type": "display_data",
          "data": {
            "text/plain": [
              "<Figure size 800x800 with 2 Axes>"
            ],
            "image/png": "[encoded data removed]"
          },
          "metadata": {}
        }
      ]
    },
    {
      "cell_type": "code",
      "source": [
        "len(test_ds)"
      ],
      "metadata": {
        "id": "TMyjE9UXODJR",
        "colab": {
          "base_uri": "https://localhost:8080/"
        },
        "outputId": "492d39f6-4159-4a03-af44-27ffed35e0da"
      },
      "execution_count": null,
      "outputs": [
        {
          "output_type": "execute_result",
          "data": {
            "text/plain": [
              "8"
            ]
          },
          "metadata": {},
          "execution_count": 31
        }
      ]
    },
    {
      "cell_type": "markdown",
      "metadata": {
        "id": "hzZPcVHBegZF"
      },
      "source": [
        "# Trying For Classification Report\n"
      ]
    },
    {
      "cell_type": "code",
      "execution_count": null,
      "metadata": {
        "id": "5N1NqM5zBJAI"
      },
      "outputs": [],
      "source": [
        "y_label_pred=[]\n",
        "y_label=[]"
      ]
    },
    {
      "cell_type": "code",
      "execution_count": null,
      "metadata": {
        "id": "tf7SHUjoL33J"
      },
      "outputs": [],
      "source": [
        "import pandas as pd"
      ]
    },
    {
      "cell_type": "code",
      "execution_count": null,
      "metadata": {
        "id": "fpcwuC5dM7z0"
      },
      "outputs": [],
      "source": [
        "y_actual = []\n",
        "for img, label in test_ds:\n",
        "    y_actual.extend(label.numpy())"
      ]
    },
    {
      "cell_type": "code",
      "source": [
        "len(y_actual)"
      ],
      "metadata": {
        "id": "JvtHnFZ6WNIN",
        "outputId": "ef6e6eff-1ae6-4fab-f7c6-8c65991efd1c",
        "colab": {
          "base_uri": "https://localhost:8080/"
        }
      },
      "execution_count": null,
      "outputs": [
        {
          "output_type": "execute_result",
          "data": {
            "text/plain": [
              "256"
            ]
          },
          "metadata": {},
          "execution_count": 56
        }
      ]
    },
    {
      "cell_type": "code",
      "execution_count": null,
      "metadata": {
        "id": "GqgrIZFGVUj3",
        "colab": {
          "base_uri": "https://localhost:8080/"
        },
        "outputId": "4aad558c-54bb-45e4-b4e1-f8627c8218f7"
      },
      "outputs": [
        {
          "output_type": "execute_result",
          "data": {
            "text/plain": [
              "['Potato___Early_blight', 'Potato___Late_blight', 'Potato___healthy']"
            ]
          },
          "metadata": {},
          "execution_count": 57
        }
      ],
      "source": [
        "class_names = dataset.class_names\n",
        "class_names"
      ]
    },
    {
      "cell_type": "code",
      "execution_count": null,
      "metadata": {
        "id": "ewyIQ9sobQke"
      },
      "outputs": [],
      "source": [
        "def predict(model, img):\n",
        "    img_array = tf.keras.preprocessing.image.img_to_array(images.numpy())\n",
        "\n",
        "    img_array = tf.expand_dims(img_array, 0)\n",
        "\n",
        "    predictions = model.predict(img_array)\n",
        "\n",
        "    predicted_class =class_names[np.argmax(predictions[0])]\n",
        "    return predicted_class"
      ]
    },
    {
      "cell_type": "code",
      "execution_count": null,
      "metadata": {
        "id": "sLmsk0rvgoGi"
      },
      "outputs": [],
      "source": [
        "a=pd.DataFrame()\n",
        "b =np.empty(shape=(255, 1))"
      ]
    },
    {
      "cell_type": "code",
      "source": [
        "len(y_label_pred)"
      ],
      "metadata": {
        "id": "YNk4SCvCMViK",
        "outputId": "77bdeb2a-aa1e-420d-deb6-64041de95b28",
        "colab": {
          "base_uri": "https://localhost:8080/"
        }
      },
      "execution_count": null,
      "outputs": [
        {
          "output_type": "execute_result",
          "data": {
            "text/plain": [
              "0"
            ]
          },
          "metadata": {},
          "execution_count": 60
        }
      ]
    },
    {
      "cell_type": "code",
      "source": [
        "for image, label in test_ds.take(1):  # Just take one sample to inspect\n",
        "    print(\"Image shape:\", image.shape)"
      ],
      "metadata": {
        "id": "yCG_iD9NNA-C",
        "outputId": "815081bd-3508-468f-d820-585313caa772",
        "colab": {
          "base_uri": "https://localhost:8080/"
        }
      },
      "execution_count": null,
      "outputs": [
        {
          "output_type": "stream",
          "name": "stdout",
          "text": [
            "Image shape: (8, 256, 256, 3)\n"
          ]
        }
      ]
    },
    {
      "cell_type": "code",
      "source": [
        "len(test_ds)"
      ],
      "metadata": {
        "colab": {
          "base_uri": "https://localhost:8080/"
        },
        "id": "PRR3WVWwZPSO",
        "outputId": "c4d46b95-bad5-4398-e213-eae832682846"
      },
      "execution_count": null,
      "outputs": [
        {
          "output_type": "execute_result",
          "data": {
            "text/plain": [
              "8"
            ]
          },
          "metadata": {},
          "execution_count": 62
        }
      ]
    },
    {
      "cell_type": "code",
      "source": [
        "8*32"
      ],
      "metadata": {
        "colab": {
          "base_uri": "https://localhost:8080/"
        },
        "id": "ZIm-r8JBZTIC",
        "outputId": "5872212e-ea71-4757-8b0e-e611342b8f0a"
      },
      "execution_count": null,
      "outputs": [
        {
          "output_type": "execute_result",
          "data": {
            "text/plain": [
              "256"
            ]
          },
          "metadata": {},
          "execution_count": 52
        }
      ]
    },
    {
      "cell_type": "code",
      "source": [
        "for batch_images, batch_labels in test_ds:\n",
        "    for i in range(batch_images.shape[0]):  # Iterate over each image in the batch\n",
        "        image = batch_images[i]\n",
        "\n",
        "        # Add an extra dimension to make it compatible with the model's expected input\n",
        "        image = tf.expand_dims(image, axis=0)  # Shape becomes (1, 256, 256, 3)\n",
        "        image = tf.expand_dims(image, axis=0)  # Shape becomes (1, 1, 256, 256, 3)\n",
        "\n",
        "        label = batch_labels[i]\n",
        "\n",
        "        # Make predictions with your model for the individual image\n",
        "        predictions = model.predict(image)\n",
        "\n",
        "        # Process the predictions and labels as needed\n",
        "        predicted_label = np.argmax(predictions[0])\n",
        "        y_label_pred.append(predicted_label)\n",
        "\n",
        "        # # Append actual label -> Use this if needed\n",
        "        # actual_label = label.numpy()\n",
        "        # y_actual.append(actual_label)"
      ],
      "metadata": {
        "id": "gov-OaD0rnt2"
      },
      "execution_count": null,
      "outputs": []
    },
    {
      "cell_type": "code",
      "source": [
        "len(y_label_pred)"
      ],
      "metadata": {
        "id": "SrWT8D0cSuMA",
        "outputId": "77fb0d26-b1d3-463f-bcdc-cdab55ad8cbe",
        "colab": {
          "base_uri": "https://localhost:8080/"
        }
      },
      "execution_count": null,
      "outputs": [
        {
          "output_type": "execute_result",
          "data": {
            "text/plain": [
              "256"
            ]
          },
          "metadata": {},
          "execution_count": 64
        }
      ]
    },
    {
      "cell_type": "code",
      "execution_count": null,
      "metadata": {
        "id": "IlOx5q6R28n8",
        "colab": {
          "base_uri": "https://localhost:8080/"
        },
        "outputId": "777ba280-9fd3-4fbf-b514-b161e882945b"
      },
      "outputs": [
        {
          "output_type": "stream",
          "name": "stdout",
          "text": [
            "              precision    recall  f1-score   support\n",
            "\n",
            "           0       0.43      1.00      0.60       109\n",
            "           1       0.00      0.00      0.00       129\n",
            "           2       0.00      0.00      0.00        18\n",
            "\n",
            "    accuracy                           0.43       256\n",
            "   macro avg       0.14      0.33      0.20       256\n",
            "weighted avg       0.18      0.43      0.26       256\n",
            "\n"
          ]
        },
        {
          "output_type": "stream",
          "name": "stderr",
          "text": [
            "/usr/local/lib/python3.10/dist-packages/sklearn/metrics/_classification.py:1344: UndefinedMetricWarning: Precision and F-score are ill-defined and being set to 0.0 in labels with no predicted samples. Use `zero_division` parameter to control this behavior.\n",
            "  _warn_prf(average, modifier, msg_start, len(result))\n",
            "/usr/local/lib/python3.10/dist-packages/sklearn/metrics/_classification.py:1344: UndefinedMetricWarning: Precision and F-score are ill-defined and being set to 0.0 in labels with no predicted samples. Use `zero_division` parameter to control this behavior.\n",
            "  _warn_prf(average, modifier, msg_start, len(result))\n",
            "/usr/local/lib/python3.10/dist-packages/sklearn/metrics/_classification.py:1344: UndefinedMetricWarning: Precision and F-score are ill-defined and being set to 0.0 in labels with no predicted samples. Use `zero_division` parameter to control this behavior.\n",
            "  _warn_prf(average, modifier, msg_start, len(result))\n"
          ]
        }
      ],
      "source": [
        "from sklearn.metrics import classification_report\n",
        "print(classification_report(y_actual, y_label_pred))"
      ]
    },
    {
      "cell_type": "code",
      "source": [
        "class_names = dataset.class_names\n",
        "class_names"
      ],
      "metadata": {
        "id": "Jf_lP-WIX_iV",
        "colab": {
          "base_uri": "https://localhost:8080/"
        },
        "outputId": "71e0fa9f-c1b4-482e-8e47-7c4e7a82ba78"
      },
      "execution_count": null,
      "outputs": [
        {
          "output_type": "execute_result",
          "data": {
            "text/plain": [
              "['Potato___Early_blight', 'Potato___Late_blight', 'Potato___healthy']"
            ]
          },
          "metadata": {},
          "execution_count": 66
        }
      ]
    },
    {
      "cell_type": "code",
      "source": [],
      "metadata": {
        "id": "J0oS-tb-oJhw"
      },
      "execution_count": null,
      "outputs": []
    }
  ]
}